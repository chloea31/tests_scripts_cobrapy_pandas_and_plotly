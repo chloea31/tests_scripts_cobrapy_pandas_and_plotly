{
 "cells": [
  {
   "cell_type": "code",
   "execution_count": null,
   "id": "3905c214",
   "metadata": {},
   "outputs": [],
   "source": [
    "import numpy as np\n",
    "import pandas as pd\n",
    "\n",
    "# Object creation\n",
    "s = pd.Series([1, 3, 5, np.nan, 6, 8])\n",
    "print(s)"
   ]
  },
  {
   "cell_type": "code",
   "execution_count": null,
   "id": "683cfcdd",
   "metadata": {},
   "outputs": [],
   "source": [
    "# Creating a Data Frame using Numpy array, with a date time index and labeled columns\n",
    "dates = pd.date_range(\"20130101\", periods=6) # Return a fixed frequency DatetimeIndex\n",
    "dates"
   ]
  },
  {
   "cell_type": "code",
   "execution_count": null,
   "id": "b7c79f49",
   "metadata": {},
   "outputs": [],
   "source": [
    "df = pd.DataFrame(np.random.randn(6, 4), index=dates, columns=list(\"ABCD\")) # to create a data frame\n",
    "# np.random.randn() => Return a sample (or samples) from the “standard normal” distribution.\n",
    "df"
   ]
  },
  {
   "cell_type": "code",
   "execution_count": null,
   "id": "db1baaa8",
   "metadata": {},
   "outputs": [],
   "source": [
    "df2 = pd.DataFrame(\n",
    "    {\n",
    "        \"A\" : 1.0,\n",
    "        \"B\" : pd.Timestamp(\"20130102\"),\n",
    "        \"C\" : pd.Series(1, index = list(range(4)), dtype = \"float32\"),\n",
    "        \"D\" : np.array([3] * 4, dtype=\"int32\"),\n",
    "        \"E\" : pd.Categorical([\"test\", \"train\", \"test\", \"train\"]),\n",
    "        \"F\" : \"foo\",\n",
    "    }\n",
    ")\n",
    "df2"
   ]
  },
  {
   "cell_type": "code",
   "execution_count": null,
   "id": "01b7f0d6",
   "metadata": {},
   "outputs": [],
   "source": [
    "df2.dtypes"
   ]
  },
  {
   "cell_type": "code",
   "execution_count": null,
   "id": "af500617",
   "metadata": {},
   "outputs": [],
   "source": [
    "############ Viewing data\n",
    "\n",
    "df.head() # to see the first rows of the data frame"
   ]
  },
  {
   "cell_type": "code",
   "execution_count": null,
   "id": "4fa0ff8d",
   "metadata": {},
   "outputs": [],
   "source": [
    "df.tail(3) # to see the 3 last rows of the data frame"
   ]
  },
  {
   "cell_type": "code",
   "execution_count": null,
   "id": "b83d488a",
   "metadata": {},
   "outputs": [],
   "source": [
    "df.index # display the index"
   ]
  },
  {
   "cell_type": "code",
   "execution_count": null,
   "id": "70843697",
   "metadata": {},
   "outputs": [],
   "source": [
    "df.columns # display the columns"
   ]
  },
  {
   "cell_type": "code",
   "execution_count": null,
   "id": "f808baad",
   "metadata": {},
   "outputs": [],
   "source": [
    "# NumPy arrays have one dtype for the entire array, while pandas DataFrames have one dtype per column\n",
    "df.to_numpy()"
   ]
  },
  {
   "cell_type": "code",
   "execution_count": null,
   "id": "0a54bc81",
   "metadata": {},
   "outputs": [],
   "source": [
    "df2.to_numpy() # # representation of the object : repr(df2.to_numpy()) "
   ]
  },
  {
   "cell_type": "code",
   "execution_count": null,
   "id": "9bca923c",
   "metadata": {},
   "outputs": [],
   "source": [
    "df.describe()"
   ]
  },
  {
   "cell_type": "code",
   "execution_count": null,
   "id": "df78830a",
   "metadata": {},
   "outputs": [],
   "source": [
    "df.T # transpose the data"
   ]
  },
  {
   "cell_type": "code",
   "execution_count": null,
   "id": "a1ec975a",
   "metadata": {},
   "outputs": [],
   "source": [
    "df.sort_index(axis=1, ascending=False) # sorting by an axis"
   ]
  },
  {
   "cell_type": "code",
   "execution_count": null,
   "id": "651dd44e",
   "metadata": {},
   "outputs": [],
   "source": [
    "df.sort_values(by=\"B\") # sorting by values"
   ]
  },
  {
   "cell_type": "code",
   "execution_count": null,
   "id": "004e7e1a",
   "metadata": {},
   "outputs": [],
   "source": [
    "########## Getting\n",
    "\n",
    "df[\"A\"]"
   ]
  },
  {
   "cell_type": "code",
   "execution_count": null,
   "id": "837bcfea",
   "metadata": {},
   "outputs": [],
   "source": [
    "df[0:3]"
   ]
  },
  {
   "cell_type": "code",
   "execution_count": null,
   "id": "520ae7ba",
   "metadata": {},
   "outputs": [],
   "source": [
    "df[\"20130102\":\"20130104\"] # first and last index included"
   ]
  },
  {
   "cell_type": "code",
   "execution_count": null,
   "id": "494b21f3",
   "metadata": {},
   "outputs": [],
   "source": [
    "############ Selection by label\n",
    "\n",
    "df.loc[dates[0]] # # Pandas provide a unique method to retrieve rows from a Data frame"
   ]
  },
  {
   "cell_type": "code",
   "execution_count": null,
   "id": "6884e365",
   "metadata": {},
   "outputs": [],
   "source": [
    "df.loc[:, [\"A\", \"B\"]] # selecting on a multi-axis by label => all the rows and columns A and B"
   ]
  },
  {
   "cell_type": "code",
   "execution_count": null,
   "id": "5ff0916b",
   "metadata": {},
   "outputs": [],
   "source": [
    "df.loc[\"20130102\":\"20130104\", [\"A\", \"B\"]] # selection of the rows (end included) and the columns A and B"
   ]
  },
  {
   "cell_type": "code",
   "execution_count": null,
   "id": "4d760b29",
   "metadata": {},
   "outputs": [],
   "source": [
    "df.loc[\"20130102\", [\"A\", \"B\"]]"
   ]
  },
  {
   "cell_type": "code",
   "execution_count": null,
   "id": "3340bb03",
   "metadata": {},
   "outputs": [],
   "source": [
    "df.loc[dates[0], \"A\"] # to get a scalar value"
   ]
  },
  {
   "cell_type": "code",
   "execution_count": null,
   "id": "ad0ca8c0",
   "metadata": {},
   "outputs": [],
   "source": [
    "df.at[dates[0], \"A\"] # to get a quick access to the scalar value"
   ]
  },
  {
   "cell_type": "code",
   "execution_count": null,
   "id": "ec69ce94",
   "metadata": {},
   "outputs": [],
   "source": [
    "########### Selection by position\n",
    "\n",
    "df.iloc[3] # Purely integer-location based indexing for selection by position, from 0 to length-1; [rows, columns]"
   ]
  },
  {
   "cell_type": "code",
   "execution_count": null,
   "id": "e75b986e",
   "metadata": {},
   "outputs": [],
   "source": [
    "df.iloc[3:5, 0:2]"
   ]
  },
  {
   "cell_type": "code",
   "execution_count": null,
   "id": "2856bc91",
   "metadata": {},
   "outputs": [],
   "source": [
    "df.iloc[[1, 2, 4], [0, 2]] # list of integers : rows 1, 2, and 4 ; columns 0 and 2"
   ]
  },
  {
   "cell_type": "code",
   "execution_count": null,
   "id": "8a2eb17c",
   "metadata": {},
   "outputs": [],
   "source": [
    "df.iloc[1:3, :]"
   ]
  },
  {
   "cell_type": "code",
   "execution_count": null,
   "id": "3da3d397",
   "metadata": {},
   "outputs": [],
   "source": [
    "df.iloc[:, 1:3] # for slicing columns explicitly"
   ]
  },
  {
   "cell_type": "code",
   "execution_count": null,
   "id": "46192b08",
   "metadata": {},
   "outputs": [],
   "source": [
    "df.iloc[1, 1] # to get one value explicitly"
   ]
  },
  {
   "cell_type": "code",
   "execution_count": null,
   "id": "2b80ee41",
   "metadata": {},
   "outputs": [],
   "source": [
    "df.iat[1, 1] # to get fast access to a scalar"
   ]
  },
  {
   "cell_type": "code",
   "execution_count": null,
   "id": "2ba1c582",
   "metadata": {},
   "outputs": [],
   "source": [
    "########## Boolean indexing\n",
    "\n",
    "df[df[\"A\"] > 0] # Using a single column’s values to select data=>selection of rows with strictly positive values in the column A"
   ]
  },
  {
   "cell_type": "code",
   "execution_count": null,
   "id": "64e80b3b",
   "metadata": {},
   "outputs": [],
   "source": [
    "df[df > 0] # Selecting values from a DataFrame where a boolean condition is met"
   ]
  },
  {
   "cell_type": "code",
   "execution_count": null,
   "id": "5b94c128",
   "metadata": {},
   "outputs": [],
   "source": [
    "df2 = df.copy()\n",
    "df2[\"E\"] = [\"one\", \"one\", \"two\", \"three\", \"four\", \"three\"] # adding a column E with the corresponding values 1, 2, 3, 4\n",
    "df2"
   ]
  },
  {
   "cell_type": "code",
   "execution_count": null,
   "id": "1fa07472",
   "metadata": {},
   "outputs": [],
   "source": [
    "df2[df2[\"E\"].isin([\"two\", \"four\"])] # using isin() method for filtering => filter column E including the values two and four\n",
    "# indicates whether each element in the DataFrame is contained in values."
   ]
  },
  {
   "cell_type": "code",
   "execution_count": null,
   "id": "f1bc1166",
   "metadata": {},
   "outputs": [],
   "source": [
    "############ Setting\n",
    "\n",
    "s1 = pd.Series([1, 2, 3, 4, 5, 6], index=pd.date_range(\"20130102\", periods=6))\n",
    "# Setting a new column automatically aligns the data by the indexes.\n",
    "# Series.at[] : Access a single value using a label.\n",
    "s1"
   ]
  },
  {
   "cell_type": "code",
   "execution_count": null,
   "id": "a8bd6c87",
   "metadata": {},
   "outputs": [],
   "source": [
    "df[\"F\"] = s1"
   ]
  },
  {
   "cell_type": "code",
   "execution_count": null,
   "id": "cfb887e5",
   "metadata": {},
   "outputs": [],
   "source": [
    "df.at[dates[0], \"A\"] = 0 # setting values by label\n",
    "# Access a single value for a row/column label pair.\n",
    "\n",
    "#Similar to loc, in that both provide label-based lookups. Use at if you only need to get or set a single value in a DataFrame \n",
    "#or Series."
   ]
  },
  {
   "cell_type": "code",
   "execution_count": null,
   "id": "6329112e",
   "metadata": {},
   "outputs": [],
   "source": [
    "df.iat[0, 1] = 0 # setting values by position\n",
    "# Access a single value for a row/column pair by integer position."
   ]
  },
  {
   "cell_type": "code",
   "execution_count": null,
   "id": "443b5deb",
   "metadata": {},
   "outputs": [],
   "source": [
    "df.loc[:, \"D\"] = np.array([5] * len(df)) # Setting by assigning with a NumPy array\n",
    "# Access a group of rows and columns by label(s)."
   ]
  },
  {
   "cell_type": "code",
   "execution_count": null,
   "id": "634adaba",
   "metadata": {},
   "outputs": [],
   "source": [
    "df"
   ]
  },
  {
   "cell_type": "code",
   "execution_count": null,
   "id": "5be458c7",
   "metadata": {},
   "outputs": [],
   "source": [
    "df2 = df.copy()\n",
    "df2[df2 > 0] = -df2\n",
    "df2"
   ]
  },
  {
   "cell_type": "code",
   "execution_count": null,
   "id": "52b556b9",
   "metadata": {},
   "outputs": [],
   "source": [
    "############ Missing data\n",
    "\n",
    "df1 = df.reindex(index=dates[0:4], columns=list(df.columns) + [\"E\"])\n",
    "# Reindexing allows us to change/add/delete the index on a specified axis. This returns a copy of the data.\n",
    "df1.loc[dates[0] : dates[1], \"E\"] = 1\n",
    "df1"
   ]
  },
  {
   "cell_type": "code",
   "execution_count": null,
   "id": "b68918e7",
   "metadata": {},
   "outputs": [],
   "source": [
    "df1.dropna(how=\"any\") # To drop any rows that have missing data"
   ]
  },
  {
   "cell_type": "code",
   "execution_count": null,
   "id": "5f961634",
   "metadata": {},
   "outputs": [],
   "source": [
    "df1.fillna(value=5) # Filling missing data"
   ]
  },
  {
   "cell_type": "code",
   "execution_count": null,
   "id": "a437ef7f",
   "metadata": {},
   "outputs": [],
   "source": [
    "pd.isna(df1) # Detect missing values.\n",
    "# To get the boolean mask where values are nan ; Return a boolean same-sized object indicating if the values are NA"
   ]
  },
  {
   "cell_type": "code",
   "execution_count": null,
   "id": "b8069c02",
   "metadata": {},
   "outputs": [],
   "source": [
    "############# Operation\n",
    "\n",
    "###### Stats\n",
    "df.mean()"
   ]
  },
  {
   "cell_type": "code",
   "execution_count": null,
   "id": "ece3809b",
   "metadata": {},
   "outputs": [],
   "source": [
    "df.mean(1) # same operation on the other axis"
   ]
  },
  {
   "cell_type": "code",
   "execution_count": null,
   "id": "6b61e4b7",
   "metadata": {},
   "outputs": [],
   "source": [
    "s = pd.Series([1, 3, 5, np.nan, 6, 8], index=dates).shift(2)\n",
    "s"
   ]
  },
  {
   "cell_type": "code",
   "execution_count": null,
   "id": "d0216209",
   "metadata": {},
   "outputs": [],
   "source": [
    "df.sub(s, axis=\"index\") # Get Subtraction of dataframe and other, element-wise (binary operator sub)"
   ]
  },
  {
   "cell_type": "code",
   "execution_count": null,
   "id": "fc5f3485",
   "metadata": {},
   "outputs": [],
   "source": [
    "df.apply(np.cumsum) # np.cumsum return the cumulative sum of the elements along a given axis"
   ]
  },
  {
   "cell_type": "code",
   "execution_count": null,
   "id": "1b6535f8",
   "metadata": {},
   "outputs": [],
   "source": [
    "df.apply(lambda x: x.max() - x.min())"
   ]
  },
  {
   "cell_type": "code",
   "execution_count": null,
   "id": "ae388859",
   "metadata": {},
   "outputs": [],
   "source": [
    "############# Histogramming\n",
    "\n",
    "s = pd.Series(np.random.randint(0, 7, size=10))\n",
    "s"
   ]
  },
  {
   "cell_type": "code",
   "execution_count": null,
   "id": "dc02a554",
   "metadata": {},
   "outputs": [],
   "source": [
    "s.value_counts() # Return a Series containing counts of unique rows in the DataFrame"
   ]
  },
  {
   "cell_type": "code",
   "execution_count": null,
   "id": "edf5a4b3",
   "metadata": {},
   "outputs": [],
   "source": [
    "########## String methods\n",
    "\n",
    "s = pd.Series([\"A\", \"B\", \"C\", \"Aaba\", \"Baca\", np.nan, \"CABA\", \"dog\", \"cat\"])\n",
    "s.str.lower()"
   ]
  },
  {
   "cell_type": "code",
   "execution_count": null,
   "id": "53dea1aa",
   "metadata": {},
   "outputs": [],
   "source": [
    "########### Merge\n",
    "\n",
    "###### Concat\n",
    "df = pd.DataFrame(np.random.randn(10, 4))\n",
    "df"
   ]
  },
  {
   "cell_type": "code",
   "execution_count": null,
   "id": "a951bee5",
   "metadata": {},
   "outputs": [],
   "source": [
    "# break it into pieces\n",
    "pieces = [df[:3], df[3:7], df[7:]]\n",
    "pd.concat(pieces)"
   ]
  },
  {
   "cell_type": "code",
   "execution_count": null,
   "id": "2780d1f3",
   "metadata": {},
   "outputs": [],
   "source": [
    "########### Join\n",
    "\n",
    "left = pd.DataFrame({\"key\": [\"foo\", \"foo\"], \"lval\": [1, 2]})\n",
    "right = pd.DataFrame({\"key\": [\"foo\", \"foo\"], \"rval\": [4, 5]})\n",
    "left"
   ]
  },
  {
   "cell_type": "code",
   "execution_count": null,
   "id": "e8760d7f",
   "metadata": {},
   "outputs": [],
   "source": [
    "right"
   ]
  },
  {
   "cell_type": "code",
   "execution_count": null,
   "id": "6674b082",
   "metadata": {},
   "outputs": [],
   "source": [
    "pd.merge(left, right, on=\"key\")"
   ]
  },
  {
   "cell_type": "code",
   "execution_count": null,
   "id": "e9885122",
   "metadata": {},
   "outputs": [],
   "source": [
    "left = pd.DataFrame({\"key\": [\"foo\", \"bar\"], \"lval\": [1, 2]})\n",
    "right = pd.DataFrame({\"key\": [\"foo\", \"bar\"], \"rval\": [4, 5]})\n",
    "left"
   ]
  },
  {
   "cell_type": "code",
   "execution_count": null,
   "id": "9f92466a",
   "metadata": {},
   "outputs": [],
   "source": [
    "right"
   ]
  },
  {
   "cell_type": "code",
   "execution_count": null,
   "id": "ba977f70",
   "metadata": {},
   "outputs": [],
   "source": [
    "pd.merge(left, right, on=\"key\")"
   ]
  },
  {
   "cell_type": "code",
   "execution_count": null,
   "id": "3fef88ab",
   "metadata": {},
   "outputs": [],
   "source": [
    "############ Grouping\n",
    "\n",
    "df = pd.DataFrame(\n",
    "    {\n",
    "        \"A\": [\"foo\", \"bar\", \"foo\", \"bar\", \"foo\", \"bar\", \"foo\", \"foo\"],\n",
    "        \"B\": [\"one\", \"one\", \"two\", \"three\", \"two\", \"two\", \"one\", \"three\"],\n",
    "        \"C\": np.random.randn(8),\n",
    "        \"D\": np.random.randn(8),\n",
    "    }\n",
    ")\n",
    "df"
   ]
  },
  {
   "cell_type": "code",
   "execution_count": null,
   "id": "1deddcd4",
   "metadata": {},
   "outputs": [],
   "source": [
    "# Grouping and then applying the sum() function to the resulting groups.\n",
    "df.groupby(\"A\").sum()"
   ]
  },
  {
   "cell_type": "code",
   "execution_count": null,
   "id": "7012a3b5",
   "metadata": {},
   "outputs": [],
   "source": [
    "# Grouping by multiple columns forms a hierarchical index, and again we can apply the sum() function\n",
    "df.groupby([\"A\", \"B\"]).sum()"
   ]
  },
  {
   "cell_type": "code",
   "execution_count": null,
   "id": "5cb299d2",
   "metadata": {},
   "outputs": [],
   "source": [
    "################ Reshaping\n",
    "\n",
    "######### Stack\n",
    "tuples = list(\n",
    "    zip(\n",
    "        *[\n",
    "            [\"bar\", \"bar\", \"baz\", \"baz\", \"foo\", \"foo\", \"qux\", \"qux\"],\n",
    "            [\"one\", \"two\", \"one\", \"two\", \"one\", \"two\", \"one\", \"two\"],\n",
    "        ]\n",
    "    )\n",
    ")\n",
    "index = pd.MultiIndex.from_tuples(tuples, names=[\"first\", \"second\"])\n",
    "df = pd.DataFrame(np.random.randn(8, 2), index=index, columns=[\"A\", \"B\"])\n",
    "df2 = df[:4]\n",
    "df2"
   ]
  },
  {
   "cell_type": "code",
   "execution_count": null,
   "id": "fd849958",
   "metadata": {},
   "outputs": [],
   "source": [
    "stacked = df2.stack() # The stack() method “compresses” a level in the DataFrame’s columns.\n",
    "stacked"
   ]
  },
  {
   "cell_type": "code",
   "execution_count": null,
   "id": "2c83fea9",
   "metadata": {},
   "outputs": [],
   "source": [
    "stacked.unstack()"
   ]
  },
  {
   "cell_type": "code",
   "execution_count": null,
   "id": "813887fe",
   "metadata": {},
   "outputs": [],
   "source": [
    "stacked.unstack(1)"
   ]
  },
  {
   "cell_type": "code",
   "execution_count": null,
   "id": "0c24b907",
   "metadata": {},
   "outputs": [],
   "source": [
    "stacked.unstack(0)"
   ]
  },
  {
   "cell_type": "code",
   "execution_count": null,
   "id": "c2f4dc3f",
   "metadata": {},
   "outputs": [],
   "source": [
    "############## Pivot tables\n",
    "\n",
    "df = pd.DataFrame(\n",
    "    {\n",
    "        \"A\": [\"one\", \"one\", \"two\", \"three\"] * 3,\n",
    "        \"B\": [\"A\", \"B\", \"C\"] * 4,\n",
    "        \"C\": [\"foo\", \"foo\", \"foo\", \"bar\", \"bar\", \"bar\"] * 2,\n",
    "        \"D\": np.random.randn(12),\n",
    "        \"E\": np.random.randn(12),\n",
    "    })\n",
    "df"
   ]
  },
  {
   "cell_type": "code",
   "execution_count": null,
   "id": "b4b48fc6",
   "metadata": {},
   "outputs": [],
   "source": [
    "pd.pivot_table(df, values=\"D\", index=[\"A\", \"B\"], columns=[\"C\"])"
   ]
  },
  {
   "cell_type": "code",
   "execution_count": null,
   "id": "033ec17b",
   "metadata": {},
   "outputs": [],
   "source": [
    "########### Plotting\n",
    "\n",
    "import matplotlib.pyplot as plt\n",
    "\n",
    "plt.close(\"all\")"
   ]
  },
  {
   "cell_type": "code",
   "execution_count": null,
   "id": "79d6be4a",
   "metadata": {},
   "outputs": [],
   "source": [
    "ts = pd.Series(np.random.randn(1000), index=pd.date_range(\"1/1/2000\", periods=1000))\n",
    "ts = ts.cumsum()\n",
    "ts.plot()"
   ]
  },
  {
   "cell_type": "code",
   "execution_count": null,
   "id": "af7d78b4",
   "metadata": {},
   "outputs": [],
   "source": [
    "df = pd.DataFrame(\n",
    "   .....:     np.random.randn(1000, 4), index=ts.index, columns=[\"A\", \"B\", \"C\", \"D\"]\n",
    "   .....: )"
   ]
  },
  {
   "cell_type": "code",
   "execution_count": null,
   "id": "85fd9874",
   "metadata": {},
   "outputs": [],
   "source": [
    "df = df.cumsum()"
   ]
  },
  {
   "cell_type": "code",
   "execution_count": null,
   "id": "2a315f10",
   "metadata": {},
   "outputs": [],
   "source": [
    "plt.figure()"
   ]
  },
  {
   "cell_type": "code",
   "execution_count": null,
   "id": "aaad5abe",
   "metadata": {},
   "outputs": [],
   "source": [
    "df.plot()\n",
    "plt.legend(loc='best')"
   ]
  },
  {
   "cell_type": "code",
   "execution_count": null,
   "id": "c7303315",
   "metadata": {},
   "outputs": [],
   "source": [
    "df.to_csv(\"foo.csv\") # writing to a CSV file"
   ]
  },
  {
   "cell_type": "code",
   "execution_count": null,
   "id": "aa70adc8",
   "metadata": {},
   "outputs": [],
   "source": [
    "pd.read_csv(\"foo.csv\")"
   ]
  },
  {
   "cell_type": "code",
   "execution_count": null,
   "id": "23e28189",
   "metadata": {
    "scrolled": true
   },
   "outputs": [],
   "source": [
    "#############################################################################################################################\n",
    "############################################### Try with Iris file ##########################################################\n",
    "#############################################################################################################################\n",
    "\n",
    "\n",
    "###########################################################\n",
    "### Loading the CSV file\n",
    "###########################################################\n",
    "\n",
    "\n",
    "import pandas as pd\n",
    "\n",
    "df = pd.read_csv(\"iris.csv\", sep = ',', )\n",
    "df"
   ]
  },
  {
   "cell_type": "code",
   "execution_count": null,
   "id": "97bdf826",
   "metadata": {},
   "outputs": [],
   "source": [
    "#####################################################\n",
    "### Viewing data\n",
    "#####################################################\n",
    "\n",
    "df.head()"
   ]
  },
  {
   "cell_type": "code",
   "execution_count": null,
   "id": "f88395bb",
   "metadata": {},
   "outputs": [],
   "source": [
    "df.tail(3)"
   ]
  },
  {
   "cell_type": "code",
   "execution_count": null,
   "id": "44461f0f",
   "metadata": {},
   "outputs": [],
   "source": [
    "df.index"
   ]
  },
  {
   "cell_type": "code",
   "execution_count": null,
   "id": "f7aa1e39",
   "metadata": {},
   "outputs": [],
   "source": [
    "df.columns"
   ]
  },
  {
   "cell_type": "code",
   "execution_count": null,
   "id": "f808a24d",
   "metadata": {},
   "outputs": [],
   "source": [
    "df.to_numpy()"
   ]
  },
  {
   "cell_type": "code",
   "execution_count": null,
   "id": "d0a10ea6",
   "metadata": {},
   "outputs": [],
   "source": [
    "df.describe()"
   ]
  },
  {
   "cell_type": "code",
   "execution_count": null,
   "id": "e7841076",
   "metadata": {},
   "outputs": [],
   "source": [
    "df.T"
   ]
  },
  {
   "cell_type": "code",
   "execution_count": null,
   "id": "8987ea0c",
   "metadata": {},
   "outputs": [],
   "source": [
    "df.sort_index(axis=1, ascending = False)"
   ]
  },
  {
   "cell_type": "code",
   "execution_count": null,
   "id": "97f2797b",
   "metadata": {},
   "outputs": [],
   "source": [
    "df.sort_values(by=\"sepal.length\")"
   ]
  },
  {
   "cell_type": "code",
   "execution_count": null,
   "id": "29b7a2d5",
   "metadata": {},
   "outputs": [],
   "source": [
    "#######################################################\n",
    "### Getting\n",
    "#######################################################\n",
    "\n"
   ]
  }
 ],
 "metadata": {
  "kernelspec": {
   "display_name": "Python 3",
   "language": "python",
   "name": "python3"
  },
  "language_info": {
   "codemirror_mode": {
    "name": "ipython",
    "version": 3
   },
   "file_extension": ".py",
   "mimetype": "text/x-python",
   "name": "python",
   "nbconvert_exporter": "python",
   "pygments_lexer": "ipython3",
   "version": "3.9.2"
  }
 },
 "nbformat": 4,
 "nbformat_minor": 5
}
